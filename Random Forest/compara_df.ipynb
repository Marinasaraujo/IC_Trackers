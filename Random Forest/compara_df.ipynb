{
 "cells": [
  {
   "cell_type": "code",
   "execution_count": 1,
   "metadata": {},
   "outputs": [
    {
     "name": "stdout",
     "output_type": "stream",
     "text": [
      "Os DataFrames são diferentes.\n"
     ]
    }
   ],
   "source": [
    "import pandas as pd\n",
    "\n",
    "df1 = pd.read_csv('classificacao_diaria.csv')\n",
    "df2 = pd.read_csv('classificacao_diaria_kt_2019.csv')\n",
    "\n",
    "\n",
    "if df1.equals(df2):\n",
    "    print(\"Os DataFrames são iguais.\")\n",
    "else:\n",
    "    print(\"Os DataFrames são diferentes.\")"
   ]
  },
  {
   "cell_type": "code",
   "execution_count": 3,
   "metadata": {},
   "outputs": [
    {
     "name": "stdout",
     "output_type": "stream",
     "text": [
      "As colunas são iguais? True\n"
     ]
    }
   ],
   "source": [
    "# Comparar se as colunas 'coluna1' de df1 e df2 são iguais\n",
    "colunas_iguais = df1['datetime_local'].equals(df2['datetime_local'])\n",
    "\n",
    "print(\"As colunas são iguais?\", colunas_iguais)"
   ]
  }
 ],
 "metadata": {
  "kernelspec": {
   "display_name": "Python 3",
   "language": "python",
   "name": "python3"
  },
  "language_info": {
   "codemirror_mode": {
    "name": "ipython",
    "version": 3
   },
   "file_extension": ".py",
   "mimetype": "text/x-python",
   "name": "python",
   "nbconvert_exporter": "python",
   "pygments_lexer": "ipython3",
   "version": "3.12.2"
  }
 },
 "nbformat": 4,
 "nbformat_minor": 2
}
