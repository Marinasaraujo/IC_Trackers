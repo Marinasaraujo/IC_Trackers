{
  "cells": [
    {
      "cell_type": "code",
      "execution_count": 18,
      "metadata": {
        "id": "C5Cn6Uf222jk"
      },
      "outputs": [],
      "source": [
        "import pandas as pd\n",
        "import numpy as np\n",
        "import pvlib\n",
        "import matplotlib.pyplot as plt"
      ]
    },
    {
      "cell_type": "code",
      "execution_count": 19,
      "metadata": {
        "colab": {
          "base_uri": "https://localhost:8080/",
          "height": 327
        },
        "id": "WQQbNXu53ALn",
        "outputId": "b05b23b3-1193-4306-b3f1-06a5ddab35e8"
      },
      "outputs": [
        {
          "data": {
            "text/html": [
              "<div>\n",
              "<style scoped>\n",
              "    .dataframe tbody tr th:only-of-type {\n",
              "        vertical-align: middle;\n",
              "    }\n",
              "\n",
              "    .dataframe tbody tr th {\n",
              "        vertical-align: top;\n",
              "    }\n",
              "\n",
              "    .dataframe thead th {\n",
              "        text-align: right;\n",
              "    }\n",
              "</style>\n",
              "<table border=\"1\" class=\"dataframe\">\n",
              "  <thead>\n",
              "    <tr style=\"text-align: right;\">\n",
              "      <th></th>\n",
              "      <th>Year</th>\n",
              "      <th>Month</th>\n",
              "      <th>Day</th>\n",
              "      <th>Hour</th>\n",
              "      <th>Minute</th>\n",
              "      <th>DHI</th>\n",
              "      <th>DNI</th>\n",
              "      <th>GHI</th>\n",
              "      <th>Solar Zenith Angle</th>\n",
              "      <th>Wind Speed</th>\n",
              "      <th>Temperature</th>\n",
              "      <th>datetime</th>\n",
              "      <th>datetime_utc</th>\n",
              "      <th>datetime_local</th>\n",
              "      <th>dayofyear</th>\n",
              "    </tr>\n",
              "  </thead>\n",
              "  <tbody>\n",
              "    <tr>\n",
              "      <th>4</th>\n",
              "      <td>2019</td>\n",
              "      <td>1</td>\n",
              "      <td>1</td>\n",
              "      <td>2</td>\n",
              "      <td>0</td>\n",
              "      <td>0</td>\n",
              "      <td>0</td>\n",
              "      <td>0</td>\n",
              "      <td>130.42</td>\n",
              "      <td>2.7</td>\n",
              "      <td>21.1</td>\n",
              "      <td>2019-01-01 02:00:00</td>\n",
              "      <td>2019-01-01 02:00:00+00:00</td>\n",
              "      <td>2019-01-01 00:00:00-02:00</td>\n",
              "      <td>1</td>\n",
              "    </tr>\n",
              "    <tr>\n",
              "      <th>5</th>\n",
              "      <td>2019</td>\n",
              "      <td>1</td>\n",
              "      <td>1</td>\n",
              "      <td>2</td>\n",
              "      <td>30</td>\n",
              "      <td>0</td>\n",
              "      <td>0</td>\n",
              "      <td>0</td>\n",
              "      <td>132.42</td>\n",
              "      <td>2.5</td>\n",
              "      <td>21.0</td>\n",
              "      <td>2019-01-01 02:30:00</td>\n",
              "      <td>2019-01-01 02:30:00+00:00</td>\n",
              "      <td>2019-01-01 00:30:00-02:00</td>\n",
              "      <td>1</td>\n",
              "    </tr>\n",
              "    <tr>\n",
              "      <th>6</th>\n",
              "      <td>2019</td>\n",
              "      <td>1</td>\n",
              "      <td>1</td>\n",
              "      <td>3</td>\n",
              "      <td>0</td>\n",
              "      <td>0</td>\n",
              "      <td>0</td>\n",
              "      <td>0</td>\n",
              "      <td>133.35</td>\n",
              "      <td>2.4</td>\n",
              "      <td>20.9</td>\n",
              "      <td>2019-01-01 03:00:00</td>\n",
              "      <td>2019-01-01 03:00:00+00:00</td>\n",
              "      <td>2019-01-01 01:00:00-02:00</td>\n",
              "      <td>1</td>\n",
              "    </tr>\n",
              "    <tr>\n",
              "      <th>7</th>\n",
              "      <td>2019</td>\n",
              "      <td>1</td>\n",
              "      <td>1</td>\n",
              "      <td>3</td>\n",
              "      <td>30</td>\n",
              "      <td>0</td>\n",
              "      <td>0</td>\n",
              "      <td>0</td>\n",
              "      <td>133.16</td>\n",
              "      <td>2.3</td>\n",
              "      <td>20.7</td>\n",
              "      <td>2019-01-01 03:30:00</td>\n",
              "      <td>2019-01-01 03:30:00+00:00</td>\n",
              "      <td>2019-01-01 01:30:00-02:00</td>\n",
              "      <td>1</td>\n",
              "    </tr>\n",
              "    <tr>\n",
              "      <th>8</th>\n",
              "      <td>2019</td>\n",
              "      <td>1</td>\n",
              "      <td>1</td>\n",
              "      <td>4</td>\n",
              "      <td>0</td>\n",
              "      <td>0</td>\n",
              "      <td>0</td>\n",
              "      <td>0</td>\n",
              "      <td>131.85</td>\n",
              "      <td>2.2</td>\n",
              "      <td>20.6</td>\n",
              "      <td>2019-01-01 04:00:00</td>\n",
              "      <td>2019-01-01 04:00:00+00:00</td>\n",
              "      <td>2019-01-01 02:00:00-02:00</td>\n",
              "      <td>1</td>\n",
              "    </tr>\n",
              "  </tbody>\n",
              "</table>\n",
              "</div>"
            ],
            "text/plain": [
              "   Year  Month  Day  Hour  Minute  DHI  DNI  GHI  Solar Zenith Angle  \\\n",
              "4  2019      1    1     2       0    0    0    0              130.42   \n",
              "5  2019      1    1     2      30    0    0    0              132.42   \n",
              "6  2019      1    1     3       0    0    0    0              133.35   \n",
              "7  2019      1    1     3      30    0    0    0              133.16   \n",
              "8  2019      1    1     4       0    0    0    0              131.85   \n",
              "\n",
              "   Wind Speed  Temperature            datetime              datetime_utc  \\\n",
              "4         2.7         21.1 2019-01-01 02:00:00 2019-01-01 02:00:00+00:00   \n",
              "5         2.5         21.0 2019-01-01 02:30:00 2019-01-01 02:30:00+00:00   \n",
              "6         2.4         20.9 2019-01-01 03:00:00 2019-01-01 03:00:00+00:00   \n",
              "7         2.3         20.7 2019-01-01 03:30:00 2019-01-01 03:30:00+00:00   \n",
              "8         2.2         20.6 2019-01-01 04:00:00 2019-01-01 04:00:00+00:00   \n",
              "\n",
              "             datetime_local  dayofyear  \n",
              "4 2019-01-01 00:00:00-02:00          1  \n",
              "5 2019-01-01 00:30:00-02:00          1  \n",
              "6 2019-01-01 01:00:00-02:00          1  \n",
              "7 2019-01-01 01:30:00-02:00          1  \n",
              "8 2019-01-01 02:00:00-02:00          1  "
            ]
          },
          "execution_count": 19,
          "metadata": {},
          "output_type": "execute_result"
        }
      ],
      "source": [
        "data = pd.read_csv('8966199_-23.56_-46.63_2019.csv', header=2)\n",
        "data['datetime'] = pd.to_datetime(data[['Year','Month', 'Day', 'Hour', 'Minute']])\n",
        "data['datetime_utc'] = data['datetime'].dt.tz_localize('UTC')\n",
        "data['datetime_local'] = data['datetime_utc'].dt.tz_convert('America/Sao_Paulo')\n",
        "\n",
        "# data['datetime'] = data['datetime'].dt.tz_localize(None)\n",
        "data['dayofyear'] = data['datetime_local'].dt.dayofyear\n",
        "data = data.iloc[4:]\n",
        "data.head()"
      ]
    },
    {
      "cell_type": "code",
      "execution_count": 20,
      "metadata": {
        "id": "8S0XK6du3HHg"
      },
      "outputs": [],
      "source": [
        "latitude = -23.55052\n",
        "longitude = -46.633308\n",
        "altitude = 590"
      ]
    },
    {
      "cell_type": "code",
      "execution_count": 21,
      "metadata": {
        "id": "0YHy9ewW3sZb"
      },
      "outputs": [],
      "source": [
        "def classify_day(kt):\n",
        "    if kt > 0.65:\n",
        "        return 'Ensolarado'\n",
        "    elif 0.50 < kt <= 0.65:\n",
        "        return 'Parcialmente Ensolarado'\n",
        "    elif 0.35 < kt <= 0.50:\n",
        "        return 'Parcialmente Nublado'\n",
        "    else:\n",
        "        return 'Nublado'"
      ]
    },
    {
      "cell_type": "code",
      "execution_count": 22,
      "metadata": {
        "colab": {
          "base_uri": "https://localhost:8080/",
          "height": 803
        },
        "id": "oA5HYTqPEkU7",
        "outputId": "17827259-7eb2-41fd-9070-0293cbce23a8"
      },
      "outputs": [
        {
          "data": {
            "image/png": "[encoded data removed]",
            "text/plain": [
              "<Figure size 800x400 with 1 Axes>"
            ]
          },
          "metadata": {},
          "output_type": "display_data"
        },
        {
          "data": {
            "image/png": "[encoded data removed]",
            "text/plain": [
              "<Figure size 800x400 with 1 Axes>"
            ]
          },
          "metadata": {},
          "output_type": "display_data"
        }
      ],
      "source": [
        "data['datetime_local'] = pd.to_datetime(data['datetime_local'])\n",
        "datetime_index = pd.DatetimeIndex(data['datetime_local'])\n",
        "\n",
        "solar_position = pvlib.solarposition.get_solarposition(\n",
        "    datetime_index,\n",
        "    latitude,\n",
        "    longitude,\n",
        "    altitude=altitude\n",
        ")\n",
        "\n",
        "dni_extra = pvlib.irradiance.get_extra_radiation(datetime_index) # Passa um vetor para não precisar do for\n",
        "\n",
        "plt.figure(figsize=(8, 4))\n",
        "plt.plot(data['datetime_local'], dni_extra, label='Radiação Extra')\n",
        "plt.xlabel('Data e Hora')\n",
        "plt.ylabel('Radiação Extra (W/m²)')\n",
        "plt.title('Radiação Extra ao Longo do Tempo')\n",
        "plt.legend()\n",
        "plt.grid(True)\n",
        "plt.show()\n",
        "\n",
        "plt.figure(figsize=(8, 4))\n",
        "plt.plot(data['datetime_local'], solar_position['apparent_elevation'], label='Elevação Aparente')\n",
        "plt.xlabel('Data e Hora')\n",
        "plt.ylabel('Elevação Aparente (graus)')\n",
        "plt.title('Elevação Aparente ao Longo do Tempo')\n",
        "plt.legend()\n",
        "plt.grid(True)\n",
        "plt.show()"
      ]
    },
    {
      "cell_type": "code",
      "execution_count": 23,
      "metadata": {
        "colab": {
          "base_uri": "https://localhost:8080/",
          "height": 206
        },
        "id": "QhmHm74tFcsT",
        "outputId": "664076d1-12e1-44c6-a6e0-890b192c2f9b"
      },
      "outputs": [
        {
          "data": {
            "text/html": [
              "<div>\n",
              "<style scoped>\n",
              "    .dataframe tbody tr th:only-of-type {\n",
              "        vertical-align: middle;\n",
              "    }\n",
              "\n",
              "    .dataframe tbody tr th {\n",
              "        vertical-align: top;\n",
              "    }\n",
              "\n",
              "    .dataframe thead th {\n",
              "        text-align: right;\n",
              "    }\n",
              "</style>\n",
              "<table border=\"1\" class=\"dataframe\">\n",
              "  <thead>\n",
              "    <tr style=\"text-align: right;\">\n",
              "      <th></th>\n",
              "      <th>datetime_local</th>\n",
              "      <th>apparent_zenith</th>\n",
              "      <th>zenith</th>\n",
              "      <th>apparent_elevation</th>\n",
              "      <th>elevation</th>\n",
              "      <th>azimuth</th>\n",
              "      <th>equation_of_time</th>\n",
              "    </tr>\n",
              "  </thead>\n",
              "  <tbody>\n",
              "    <tr>\n",
              "      <th>0</th>\n",
              "      <td>2019-01-01 00:00:00-02:00</td>\n",
              "      <td>130.431269</td>\n",
              "      <td>130.431269</td>\n",
              "      <td>-40.431269</td>\n",
              "      <td>-40.431269</td>\n",
              "      <td>201.247715</td>\n",
              "      <td>-3.235491</td>\n",
              "    </tr>\n",
              "    <tr>\n",
              "      <th>1</th>\n",
              "      <td>2019-01-01 00:30:00-02:00</td>\n",
              "      <td>132.428602</td>\n",
              "      <td>132.428602</td>\n",
              "      <td>-42.428602</td>\n",
              "      <td>-42.428602</td>\n",
              "      <td>192.435013</td>\n",
              "      <td>-3.245391</td>\n",
              "    </tr>\n",
              "    <tr>\n",
              "      <th>2</th>\n",
              "      <td>2019-01-01 01:00:00-02:00</td>\n",
              "      <td>133.361499</td>\n",
              "      <td>133.361499</td>\n",
              "      <td>-43.361499</td>\n",
              "      <td>-43.361499</td>\n",
              "      <td>183.099195</td>\n",
              "      <td>-3.255288</td>\n",
              "    </tr>\n",
              "    <tr>\n",
              "      <th>3</th>\n",
              "      <td>2019-01-01 01:30:00-02:00</td>\n",
              "      <td>133.166114</td>\n",
              "      <td>133.166114</td>\n",
              "      <td>-43.166114</td>\n",
              "      <td>-43.166114</td>\n",
              "      <td>173.623787</td>\n",
              "      <td>-3.265183</td>\n",
              "    </tr>\n",
              "    <tr>\n",
              "      <th>4</th>\n",
              "      <td>2019-01-01 02:00:00-02:00</td>\n",
              "      <td>131.856205</td>\n",
              "      <td>131.856205</td>\n",
              "      <td>-41.856205</td>\n",
              "      <td>-41.856205</td>\n",
              "      <td>164.429482</td>\n",
              "      <td>-3.275076</td>\n",
              "    </tr>\n",
              "  </tbody>\n",
              "</table>\n",
              "</div>"
            ],
            "text/plain": [
              "             datetime_local  apparent_zenith      zenith  apparent_elevation  \\\n",
              "0 2019-01-01 00:00:00-02:00       130.431269  130.431269          -40.431269   \n",
              "1 2019-01-01 00:30:00-02:00       132.428602  132.428602          -42.428602   \n",
              "2 2019-01-01 01:00:00-02:00       133.361499  133.361499          -43.361499   \n",
              "3 2019-01-01 01:30:00-02:00       133.166114  133.166114          -43.166114   \n",
              "4 2019-01-01 02:00:00-02:00       131.856205  131.856205          -41.856205   \n",
              "\n",
              "   elevation     azimuth  equation_of_time  \n",
              "0 -40.431269  201.247715         -3.235491  \n",
              "1 -42.428602  192.435013         -3.245391  \n",
              "2 -43.361499  183.099195         -3.255288  \n",
              "3 -43.166114  173.623787         -3.265183  \n",
              "4 -41.856205  164.429482         -3.275076  "
            ]
          },
          "execution_count": 23,
          "metadata": {},
          "output_type": "execute_result"
        }
      ],
      "source": [
        "solar_position = solar_position.reset_index()\n",
        "solar_position.head()"
      ]
    },
    {
      "cell_type": "code",
      "execution_count": 24,
      "metadata": {
        "id": "lUocoTVLE5d0"
      },
      "outputs": [],
      "source": [
        "zenith = solar_position['apparent_zenith']"
      ]
    },
    {
      "cell_type": "code",
      "execution_count": 25,
      "metadata": {
        "colab": {
          "base_uri": "https://localhost:8080/"
        },
        "id": "qUgwCIzEFA9U",
        "outputId": "1ac79ace-c3e9-4157-88df-252400eb6304"
      },
      "outputs": [
        {
          "name": "stdout",
          "output_type": "stream",
          "text": [
            "Index([   13,    14,    15,    16,    17,    18,    19,    20,    21,    22,\n",
            "       ...\n",
            "       17502, 17503, 17504, 17505, 17506, 17507, 17508, 17509, 17510, 17511],\n",
            "      dtype='int64', length=8784)\n"
          ]
        },
        {
          "name": "stderr",
          "output_type": "stream",
          "text": [
            "C:\\Users\\Marina\\AppData\\Local\\Temp\\ipykernel_3464\\1203465630.py:6: FutureWarning: Series.__getitem__ treating keys as positions is deprecated. In a future version, integer keys will always be treated as labels (consistent with DataFrame behavior). To access a value by position, use `ser.iloc[pos]`\n",
            "  g0[index] = dni_extra[index] * np.cos(np.radians(zenith[index]))\n"
          ]
        }
      ],
      "source": [
        "g0 = np.zeros_like(zenith)\n",
        "\n",
        "valid_indices = zenith[zenith <= 90].index\n",
        "print(valid_indices)\n",
        "for index in valid_indices:\n",
        "  g0[index] = dni_extra[index] * np.cos(np.radians(zenith[index]))"
      ]
    },
    {
      "cell_type": "code",
      "execution_count": 26,
      "metadata": {
        "id": "M-Htu6sfFEBE"
      },
      "outputs": [],
      "source": [
        "g0[g0 == 0] = np.nan # substitui por valores vazios que não entram na conta\n",
        "data['Kt'] = data['GHI'] / g0"
      ]
    },
    {
      "cell_type": "code",
      "execution_count": 27,
      "metadata": {
        "id": "6w65YzJhFIXN"
      },
      "outputs": [],
      "source": [
        "data['date'] = data['datetime_local'].dt.date # só o dia respectivo\n",
        "daily_kt = data.groupby('date')['Kt'].mean()"
      ]
    },
    {
      "cell_type": "code",
      "execution_count": 28,
      "metadata": {
        "id": "54JeCPT7FI1N"
      },
      "outputs": [],
      "source": [
        "daily_classification = daily_kt.apply(classify_day)\n",
        "result_df = pd.DataFrame({'date': daily_classification.index, 'Kt_mean': daily_kt.values, 'classification': daily_classification.values})"
      ]
    },
    {
      "cell_type": "code",
      "execution_count": 29,
      "metadata": {
        "colab": {
          "base_uri": "https://localhost:8080/",
          "height": 423
        },
        "id": "JVYVX94XFPAr",
        "outputId": "fb4f9263-bb83-4bd9-9fe0-703596f26fc3"
      },
      "outputs": [
        {
          "data": {
            "text/html": [
              "<div>\n",
              "<style scoped>\n",
              "    .dataframe tbody tr th:only-of-type {\n",
              "        vertical-align: middle;\n",
              "    }\n",
              "\n",
              "    .dataframe tbody tr th {\n",
              "        vertical-align: top;\n",
              "    }\n",
              "\n",
              "    .dataframe thead th {\n",
              "        text-align: right;\n",
              "    }\n",
              "</style>\n",
              "<table border=\"1\" class=\"dataframe\">\n",
              "  <thead>\n",
              "    <tr style=\"text-align: right;\">\n",
              "      <th></th>\n",
              "      <th>date</th>\n",
              "      <th>Kt_mean</th>\n",
              "      <th>classification</th>\n",
              "    </tr>\n",
              "  </thead>\n",
              "  <tbody>\n",
              "    <tr>\n",
              "      <th>0</th>\n",
              "      <td>2019-01-01</td>\n",
              "      <td>0.435070</td>\n",
              "      <td>Parcialmente Nublado</td>\n",
              "    </tr>\n",
              "    <tr>\n",
              "      <th>1</th>\n",
              "      <td>2019-01-02</td>\n",
              "      <td>0.537801</td>\n",
              "      <td>Parcialmente Ensolarado</td>\n",
              "    </tr>\n",
              "    <tr>\n",
              "      <th>2</th>\n",
              "      <td>2019-01-03</td>\n",
              "      <td>0.457928</td>\n",
              "      <td>Parcialmente Nublado</td>\n",
              "    </tr>\n",
              "    <tr>\n",
              "      <th>3</th>\n",
              "      <td>2019-01-04</td>\n",
              "      <td>0.289591</td>\n",
              "      <td>Nublado</td>\n",
              "    </tr>\n",
              "    <tr>\n",
              "      <th>4</th>\n",
              "      <td>2019-01-05</td>\n",
              "      <td>0.198927</td>\n",
              "      <td>Nublado</td>\n",
              "    </tr>\n",
              "    <tr>\n",
              "      <th>...</th>\n",
              "      <td>...</td>\n",
              "      <td>...</td>\n",
              "      <td>...</td>\n",
              "    </tr>\n",
              "    <tr>\n",
              "      <th>360</th>\n",
              "      <td>2019-12-27</td>\n",
              "      <td>0.620796</td>\n",
              "      <td>Parcialmente Ensolarado</td>\n",
              "    </tr>\n",
              "    <tr>\n",
              "      <th>361</th>\n",
              "      <td>2019-12-28</td>\n",
              "      <td>0.583695</td>\n",
              "      <td>Parcialmente Ensolarado</td>\n",
              "    </tr>\n",
              "    <tr>\n",
              "      <th>362</th>\n",
              "      <td>2019-12-29</td>\n",
              "      <td>0.572332</td>\n",
              "      <td>Parcialmente Ensolarado</td>\n",
              "    </tr>\n",
              "    <tr>\n",
              "      <th>363</th>\n",
              "      <td>2019-12-30</td>\n",
              "      <td>0.661203</td>\n",
              "      <td>Ensolarado</td>\n",
              "    </tr>\n",
              "    <tr>\n",
              "      <th>364</th>\n",
              "      <td>2019-12-31</td>\n",
              "      <td>0.524406</td>\n",
              "      <td>Parcialmente Ensolarado</td>\n",
              "    </tr>\n",
              "  </tbody>\n",
              "</table>\n",
              "<p>365 rows × 3 columns</p>\n",
              "</div>"
            ],
            "text/plain": [
              "           date   Kt_mean           classification\n",
              "0    2019-01-01  0.435070     Parcialmente Nublado\n",
              "1    2019-01-02  0.537801  Parcialmente Ensolarado\n",
              "2    2019-01-03  0.457928     Parcialmente Nublado\n",
              "3    2019-01-04  0.289591                  Nublado\n",
              "4    2019-01-05  0.198927                  Nublado\n",
              "..          ...       ...                      ...\n",
              "360  2019-12-27  0.620796  Parcialmente Ensolarado\n",
              "361  2019-12-28  0.583695  Parcialmente Ensolarado\n",
              "362  2019-12-29  0.572332  Parcialmente Ensolarado\n",
              "363  2019-12-30  0.661203               Ensolarado\n",
              "364  2019-12-31  0.524406  Parcialmente Ensolarado\n",
              "\n",
              "[365 rows x 3 columns]"
            ]
          },
          "metadata": {},
          "output_type": "display_data"
        }
      ],
      "source": [
        "result_df.to_csv('classificacao_diaria.csv', index=False)\n",
        "display(result_df)"
      ]
    },
    {
      "cell_type": "code",
      "execution_count": 37,
      "metadata": {},
      "outputs": [
        {
          "name": "stdout",
          "output_type": "stream",
          "text": [
            "classification\n",
            "Parcialmente Ensolarado    134\n",
            "Nublado                     88\n",
            "Parcialmente Nublado        83\n",
            "Ensolarado                  60\n",
            "Name: count, dtype: int64\n"
          ]
        }
      ],
      "source": [
        "print(result_df['classification'].value_counts())"
      ]
    }
  ],
  "metadata": {
    "colab": {
      "provenance": []
    },
    "kernelspec": {
      "display_name": "Python 3",
      "name": "python3"
    },
    "language_info": {
      "codemirror_mode": {
        "name": "ipython",
        "version": 3
      },
      "file_extension": ".py",
      "mimetype": "text/x-python",
      "name": "python",
      "nbconvert_exporter": "python",
      "pygments_lexer": "ipython3",
      "version": "3.12.2"
    }
  },
  "nbformat": 4,
  "nbformat_minor": 0
}
